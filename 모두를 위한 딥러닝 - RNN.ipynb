{
 "cells": [
  {
   "cell_type": "code",
   "execution_count": 1,
   "metadata": {
    "collapsed": false
   },
   "outputs": [
    {
     "name": "stderr",
     "output_type": "stream",
     "text": [
      "/home/limhyesu/anaconda3/lib/python3.5/site-packages/h5py/__init__.py:34: FutureWarning: Conversion of the second argument of issubdtype from `float` to `np.floating` is deprecated. In future, it will be treated as `np.float64 == np.dtype(float).type`.\n",
      "  from ._conv import register_converters as _register_converters\n"
     ]
    }
   ],
   "source": [
    "import tensorflow as tf\n",
    "import numpy as np\n",
    "from tensorflow.contrib import rnn\n",
    "import pprint\n",
    "\n",
    "pp = pprint.PrettyPrinter(indent=4)\n",
    "sess = tf.InteractiveSession()"
   ]
  },
  {
   "cell_type": "code",
   "execution_count": 2,
   "metadata": {
    "collapsed": false
   },
   "outputs": [],
   "source": [
    "# One cell RNN input_dim (4) -> output_dim (2)\n",
    "hidden_size = 2\n",
    "cell = tf.contrib.rnn.BasicLSTMCell(num_units=hidden_size) # output dimension이 2인 cell 생성\n",
    "\n",
    "# input\n",
    "x_data = np.array([[[1,0,0,0]]], dtype = np.float32)\n",
    "outputs, _states = tf.nn.dynamic_rnn(cell, x_data, dtype=tf.float32)"
   ]
  },
  {
   "cell_type": "code",
   "execution_count": 3,
   "metadata": {
    "collapsed": false
   },
   "outputs": [
    {
     "name": "stdout",
     "output_type": "stream",
     "text": [
      "array([[[-0.08110873,  0.09853155]]], dtype=float32)\n"
     ]
    }
   ],
   "source": [
    "sess.run(tf.global_variables_initializer()) # variable을 초기화하고 실행함.\n",
    "pp.pprint(outputs.eval())"
   ]
  },
  {
   "cell_type": "code",
   "execution_count": 4,
   "metadata": {
    "collapsed": true
   },
   "outputs": [],
   "source": [
    "# One hot encoding for each char in 'hello'\n",
    "h = [1,0,0,0]\n",
    "e = [0,1,0,0]\n",
    "l = [0,0,1,0]\n",
    "o = [0,0,0,1]"
   ]
  },
  {
   "cell_type": "code",
   "execution_count": 9,
   "metadata": {
    "collapsed": false
   },
   "outputs": [
    {
     "name": "stdout",
     "output_type": "stream",
     "text": [
      "(1, 5, 4)\n",
      "array([[[1., 0., 0., 0.],\n",
      "        [0., 1., 0., 0.],\n",
      "        [0., 0., 1., 0.],\n",
      "        [0., 0., 1., 0.],\n",
      "        [0., 0., 0., 1.]]], dtype=float32)\n",
      "array([[[-0.06047141, -0.00438683],\n",
      "        [-0.11428346, -0.10265477],\n",
      "        [-0.04618637, -0.02500629],\n",
      "        [-0.01184013,  0.03899765],\n",
      "        [-0.0672038 ,  0.09298304]]], dtype=float32)\n"
     ]
    }
   ],
   "source": [
    "# One cel RNN input_dim (4) -> output_dim (2). sequence : 5\n",
    "x_data_2 = np.array([[h,e,l,l,o]], dtype=np.float32)\n",
    "print(x_data_2.shape)\n",
    "pp.pprint(x_data_2)\n",
    "outputs_2, states = tf.nn.dynamic_rnn(cell, x_data_2, dtype=tf.float32)\n",
    "sess.run(tf.global_variables_initializer())\n",
    "pp.pprint(outputs_2.eval())"
   ]
  },
  {
   "cell_type": "code",
   "execution_count": 11,
   "metadata": {
    "collapsed": false
   },
   "outputs": [
    {
     "name": "stdout",
     "output_type": "stream",
     "text": [
      "(3, 5, 4)\n",
      "\n",
      "array([[[1., 0., 0., 0.],\n",
      "        [0., 1., 0., 0.],\n",
      "        [0., 0., 1., 0.],\n",
      "        [0., 0., 1., 0.],\n",
      "        [0., 0., 0., 1.]],\n",
      "\n",
      "       [[0., 1., 0., 0.],\n",
      "        [0., 0., 0., 1.],\n",
      "        [0., 0., 1., 0.],\n",
      "        [0., 0., 1., 0.],\n",
      "        [0., 0., 1., 0.]],\n",
      "\n",
      "       [[0., 0., 1., 0.],\n",
      "        [0., 0., 1., 0.],\n",
      "        [0., 1., 0., 0.],\n",
      "        [0., 1., 0., 0.],\n",
      "        [0., 0., 1., 0.]]], dtype=float32)\n",
      "\n",
      "array([[[ 0.12390857, -0.11472706],\n",
      "        [ 0.03512599, -0.18473887],\n",
      "        [-0.05325012, -0.03150684],\n",
      "        [-0.09872831,  0.02119573],\n",
      "        [ 0.03261034, -0.0633303 ]],\n",
      "\n",
      "       [[-0.0301294 , -0.10660589],\n",
      "        [ 0.05872541, -0.11070183],\n",
      "        [-0.01972193, -0.04362303],\n",
      "        [-0.07841022,  0.01658935],\n",
      "        [-0.11119507,  0.04833953]],\n",
      "\n",
      "       [[-0.06230262,  0.04540988],\n",
      "        [-0.09879838,  0.06811427],\n",
      "        [-0.09600377, -0.04347256],\n",
      "        [-0.10834204, -0.13600145],\n",
      "        [-0.14168037, -0.02676033]]], dtype=float32)\n"
     ]
    }
   ],
   "source": [
    "# One cel RNN input_dim (4) -> output_dim (2). sequence : 5, batch : 3\n",
    "x_data_3 = np.array([[h,e,l,l,o], [e,o,l,l,l], [l,l,e,e,l]], dtype=np.float32)\n",
    "print(x_data_3.shape)\n",
    "print()\n",
    "pp.pprint(x_data_3)\n",
    "outputs_3, states = tf.nn.dynamic_rnn(cell, x_data_3, dtype=tf.float32)\n",
    "sess.run(tf.global_variables_initializer())\n",
    "print()\n",
    "pp.pprint(outputs_3.eval())"
   ]
  },
  {
   "cell_type": "code",
   "execution_count": null,
   "metadata": {
    "collapsed": true
   },
   "outputs": [],
   "source": []
  }
 ],
 "metadata": {
  "anaconda-cloud": {},
  "kernelspec": {
   "display_name": "Python [conda env:anaconda3]",
   "language": "python",
   "name": "conda-env-anaconda3-py"
  },
  "language_info": {
   "codemirror_mode": {
    "name": "ipython",
    "version": 3
   },
   "file_extension": ".py",
   "mimetype": "text/x-python",
   "name": "python",
   "nbconvert_exporter": "python",
   "pygments_lexer": "ipython3",
   "version": "3.5.2"
  }
 },
 "nbformat": 4,
 "nbformat_minor": 1
}
